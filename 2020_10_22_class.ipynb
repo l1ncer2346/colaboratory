{
  "nbformat": 4,
  "nbformat_minor": 0,
  "metadata": {
    "colab": {
      "name": "2020.10.22_class.ipynb",
      "provenance": [],
      "toc_visible": true,
      "authorship_tag": "ABX9TyMSknBAg2FtUFy0PZZ+2ScT",
      "include_colab_link": true
    },
    "kernelspec": {
      "name": "python3",
      "display_name": "Python 3"
    }
  },
  "cells": [
    {
      "cell_type": "markdown",
      "metadata": {
        "id": "view-in-github",
        "colab_type": "text"
      },
      "source": [
        "<a href=\"https://colab.research.google.com/github/l1ncer2346/colaboratory/blob/main/2020_10_22_class.ipynb\" target=\"_parent\"><img src=\"https://colab.research.google.com/assets/colab-badge.svg\" alt=\"Open In Colab\"/></a>"
      ]
    },
    {
      "cell_type": "markdown",
      "metadata": {
        "id": "14CaxHCytC9T"
      },
      "source": [
        "# 2020.10.22_Class\n"
      ]
    },
    {
      "cell_type": "markdown",
      "metadata": {
        "id": "_slCcZqesnVM"
      },
      "source": [
        "Найти приложение на эранах телефона и вывести номер соответствующего экрана, если такого приложения нет, вывести текст оповаещающий об этом"
      ]
    },
    {
      "cell_type": "markdown",
      "metadata": {
        "id": "rwZSv7V3sq85"
      },
      "source": [
        "## Решение\n"
      ]
    },
    {
      "cell_type": "code",
      "metadata": {
        "id": "OEbmuQbGk47A",
        "outputId": "f4e8252a-8f21-4999-9f9e-3e45059d08f9",
        "colab": {
          "base_uri": "https://localhost:8080/",
          "height": 85
        }
      },
      "source": [
        "import random\n",
        "class Phone():\n",
        "\n",
        "  def __init__(self, quantity_of_screens = 3):\n",
        "    self.quant_screens = quantity_of_screens\n",
        "    self.screens = [['Whatsapp', 'Vk', 'Google'], ['Radio', 'Psnow', 'Google play', 'Aircrack-ng'], ['Vscode', 'KillZ']]\n",
        "    \n",
        "\n",
        "  def FindApplication(self, application):\n",
        "    for i in range(self.quant_screens):\n",
        "      for j in range(len(self.screens[i])):\n",
        "        if self.screens[i][j] == application:\n",
        "          return ('Application ' + application + ' is on screen number №' + str(i+1))\n",
        "    return 'There is no such application...'\n",
        "\n",
        "telephone = Phone()\n",
        "print(telephone.FindApplication('Vscode'))\n",
        "print(telephone.FindApplication('Vk'))\n",
        "print(telephone.FindApplication('Radio'))\n",
        "print(telephone.FindApplication('Gidra'))"
      ],
      "execution_count": 2,
      "outputs": [
        {
          "output_type": "stream",
          "text": [
            "Application Vscode is on screen number №3\n",
            "Application Vk is on screen number №1\n",
            "Application Radio is on screen number №2\n",
            "There is no such application...\n"
          ],
          "name": "stdout"
        }
      ]
    }
  ]
}